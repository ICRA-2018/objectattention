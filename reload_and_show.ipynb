{
 "cells": [
  {
   "cell_type": "code",
   "execution_count": null,
   "metadata": {},
   "outputs": [],
   "source": [
    "import sys\n",
    "sys.path.append('./rpn_net')\n",
    "sys.path.append('./rpn_net/util/faster_rcnn_lib')"
   ]
  },
  {
   "cell_type": "code",
   "execution_count": null,
   "metadata": {},
   "outputs": [],
   "source": [
    "import numpy as np\n",
    "import matplotlib.pyplot as plt\n",
    "import yaml\n",
    "from train_model import ProposalModel"
   ]
  },
  {
   "cell_type": "code",
   "execution_count": null,
   "metadata": {},
   "outputs": [],
   "source": [
    "with open('example.yaml', 'r') as f:\n",
    "    doc = yaml.load(f)"
   ]
  },
  {
   "cell_type": "code",
   "execution_count": null,
   "metadata": {},
   "outputs": [],
   "source": [
    "demo = doc['taskname']\n",
    "exp = doc['experimentname']\n",
    "q = doc['hyperparams']['num_attentions']\n",
    "initq = 10000\n",
    "b= doc['hyperparams']['num_boxes']\n",
    "X = np.load(demo+'/'+doc['data']['states'])\n",
    "U = np.load(demo+'/'+doc['data']['deltas'])\n",
    "model = ProposalModel(dim_input=X.shape[1],num_queries=q, num_boxes=b, dim_u = U.shape[1])\n",
    "print \"Made model!\""
   ]
  },
  {
   "cell_type": "code",
   "execution_count": null,
   "metadata": {},
   "outputs": [],
   "source": [
    "im_file = demo+'/'+doc['data']['images']\n",
    "imgs = np.load(im_file)\n",
    "imgs = imgs.reshape((-1, doc['data']['image_height'],doc['data']['image_width'], 3))\n",
    "weights_file = demo+'/'+exp+'/weights_iter'+str(initq)+'.pkl'\n",
    "print weights_file\n",
    "model.assign_weights(weights_file)"
   ]
  },
  {
   "cell_type": "code",
   "execution_count": null,
   "metadata": {},
   "outputs": [],
   "source": [
    "%matplotlib inline\n",
    "for t in range(30):\n",
    "    img = imgs[t*20]\n",
    "    feats, boxes, im = model.preprocess(img, draw=True)\n",
    "    feed_dict = {model.feat_list: [feats],\n",
    "                 model.boxes : [boxes],\n",
    "             }\n",
    "    img = img[:,:,::-1]\n",
    "    orig = img.copy()\n",
    "    if np.max(img) < 2.0:\n",
    "        img = img*255\n",
    "    img = img.astype(np.uint8)\n",
    "    crops = [model.proposer.get_crop(b, img.copy()) for b in boxes]\n",
    "    with model.graph.as_default():\n",
    "        arg_boxes = model.sess.run(model.arg_boxes, feed_dict=feed_dict)\n",
    "    for b in range(boxes.shape[0]):\n",
    "        model.proposer.draw_box(boxes[b], img, 2)\n",
    "\n",
    "    probs = model.sess.run(model.probs , feed_dict)\n",
    "    for b in arg_boxes:\n",
    "        model.proposer.draw_box(b[0], img, 0)\n",
    "    plt.show(plt.imshow(img))"
   ]
  },
  {
   "cell_type": "code",
   "execution_count": null,
   "metadata": {},
   "outputs": [],
   "source": []
  }
 ],
 "metadata": {
  "kernelspec": {
   "display_name": "Python 2",
   "language": "python",
   "name": "python2"
  },
  "language_info": {
   "codemirror_mode": {
    "name": "ipython",
    "version": 2
   },
   "file_extension": ".py",
   "mimetype": "text/x-python",
   "name": "python",
   "nbconvert_exporter": "python",
   "pygments_lexer": "ipython2",
   "version": "2.7.12"
  }
 },
 "nbformat": 4,
 "nbformat_minor": 2
}
